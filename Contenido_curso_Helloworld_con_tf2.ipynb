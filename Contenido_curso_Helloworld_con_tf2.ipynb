{
  "nbformat": 4,
  "nbformat_minor": 0,
  "metadata": {
    "colab": {
      "name": "Contenido_curso_Helloworld_con_tf2.ipynb",
      "provenance": [],
      "collapsed_sections": []
    },
    "kernelspec": {
      "name": "python3",
      "display_name": "Python 3"
    },
    "language_info": {
      "name": "python"
    }
  },
  "cells": [
    {
      "cell_type": "markdown",
      "source": [
        "# **BIENVENIDOS AL CURSO DE:  Hello world !! con Tensorflow 2. Una Introducción a Deep Learning**\n",
        "\n",
        "![image of a cat sitting on a chair](data:image/png;base64,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)"
      ],
      "metadata": {
        "id": "Stb3HDJcPfmX"
      }
    },
    {
      "cell_type": "markdown",
      "source": [
        "## Resumen\n",
        "Mi nombre es **Hector Javier Hortua** \n",
        "\n",
        "Email: hector.hortuao@gmail.com\n",
        "\n",
        "GitHub: *JavierOrjuela*\n",
        "\n",
        "\n",
        "## *Objetivo del Curso*:\n",
        "Implementar modelos de Deep Learning con Tensorflow 2, desde el procesamiento\n",
        "de datos, creación, entrenamiento, evaluación y finalmente la predicción,\n",
        "utilizando no solo el nivel alto API de Keras sino también niveles bajos de\n",
        "personalización.\n",
        "\n",
        "## *Justificación:*\n",
        "Tensorflow es una biblioteca de código abierto y una de las APIs más utilizadas en\n",
        "Deep Learning en entornos industriales. Tensorflow 2 marca un cambio radical en el\n",
        "desarrollo del software, enfocado en la facilidad de uso para todos los usuarios,\n",
        "desde principiantes hasta niveles avanzados. En este curso introductorio se muestra\n",
        "el uso de este software en varias tareas supervisadas de Deep Learning,\n",
        "especificamente en el manejo de imágenes. Finalmente, se discutirá varios métodos\n",
        "avanzados usados en Deep Learning los cuales motivarán y darán al estudiante una\n",
        "amplia visión del potencial de TensorFlow en entornos académicos e industriales.\n",
        "\n",
        "\n",
        "### *REQUISITOS ACADÉMICOS*:\n",
        "Personas con conocimientos en programación Python y conocimientos básicos en\n",
        "álgebra lineal, que quieran incluir TensorFlow en su caja de herramientas para la\n",
        "aplicación de modelos supervisados de Deep Learning. Además, el estudiante debe tener\n",
        "ya sea una cuenta en Google para acceder a processos de GPU a través de Colab\n",
        "notebook, o un computador con los requerimientos básicos para la instalación de\n",
        "TensorFlow con o sin GPU (https://www.tensorflow.org/install).\n",
        "\n",
        "### BIBLIOGRAFÍA\n",
        " \n",
        "\n",
        "*   https://www.tensorflow.org/\n",
        "*  Deep Learning with TensorFlow 2 and Keras: Regression, ConvNets, GANs, RNNs, NLP,\n",
        "and more with TensorFlow 2 and the Keras API, Antonio Gulli, Amita Kapoor,Sujit Pal 2nd\n",
        "Edition,Packt Publishing.\n",
        "* Hands-On Machine Learning with Scikit-Learn, Keras, and TensorFlow: Concepts, Tools and Techniques to Build Intelligent Systems, Aurelien Geron,O&#39;Reilly Media; 2nd edición.\n",
        "* Advanced Deep Learning with TensorFlow 2 and Keras,Rowel Atienza, Packt Publishing.\n",
        "*Pattern Recognition and Machine Learning, C.M.Bishop,Springer-Verlag New York, 2006.\n",
        "\n",
        "\n",
        "\n",
        "\n",
        "### Contenido\n",
        "*Primer Módulo: Introducción a Deep Learning*\n",
        "- Introducción a Deep Learning y aplicaciones\n",
        "- Introducción TensorFlow\n",
        "- Conceptos detrás de la API Keras\n",
        "- Modelos MLP, RNN y CNN.\n",
        "- Optimización, regularización, funciones de costo\n",
        "\n",
        "*Segundo Módulo: Casos Prácticos*\n",
        "- Datasets, DataTransformation, Data augmentation.\n",
        "- Sequential &amp; Functional API\n",
        "- Entrenamiento, y evaluación usando Keras\n",
        "- Guardar y restaurar modelos.\n",
        "- Visualización usando Tensorboard\n",
        "- Personalización a través de niveles bajos de API\n",
        "- Métodos Avanzados (y trabajos Finales): Tranfer Learning, Transfer style, Auto Encoding\n",
        "\n",
        "\n",
        "\n",
        "### METODOLOGÍA:\n",
        "* Cada una de las clases tendrán una parte teórica donde se introduce los conceptos\n",
        "básicos y una parte práctica para poder aplicar los conocimientos adquiridos y conocer las implementaciones del software. \n",
        "* Se trabajará con imágenes relacionadas con\n",
        "diferentes campos como medicina, e-commerce, astronomía, industria, academia, etc..\n",
        "\n",
        "EVALUACIÓN:\n",
        "\n",
        "* Ejercicios  50% (ambos modulos)\n",
        "* Elaboración de Caso Guiado  (avances del proyecto) 15%\n",
        "* Trabajo Final 35%\n",
        "\n"
      ],
      "metadata": {
        "id": "XYpxdBcOPVZT"
      }
    },
    {
      "cell_type": "markdown",
      "source": [
        "## Herramientas:\n",
        "\n",
        "* Cuenta de gmail\n",
        "* Github (desktop)\n",
        "* Docker\n",
        "* Laptop con TensorFlow instalado (CPU es ok. *Consejo: trabajar en un entorno conda*)\n"
      ],
      "metadata": {
        "id": "En6VGmhNWP7W"
      }
    },
    {
      "cell_type": "markdown",
      "source": [
        "##Sondeo:\n",
        "\n",
        "* Tienen conocimientos de Machine Learning?\n",
        "* Tienen conocimientos de Deep Learning?\n",
        "* Que OS usan frecuentemente?\n",
        "* Cual es su nivel de programacion en Python?\n",
        "* Han usado GitHub?\n",
        "* Han usado Google-Colab?\n",
        "* Como llegaron a saber de TensorFlow?\n",
        "* Planean enfocarse al sector industrial o para desarrollo de investigacion?"
      ],
      "metadata": {
        "id": "jRNgIF1o9q_1"
      }
    },
    {
      "cell_type": "code",
      "source": [
        ""
      ],
      "metadata": {
        "id": "WnWEOVS3-y8A"
      },
      "execution_count": null,
      "outputs": []
    }
  ]
}