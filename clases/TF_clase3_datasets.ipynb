{
 "cells": [
  {
   "cell_type": "code",
   "execution_count": 2,
   "id": "0d8f61b7-52a9-4234-baa4-c7b5eeff0b83",
   "metadata": {},
   "outputs": [
    {
     "name": "stdout",
     "output_type": "stream",
     "text": [
      "2.7.0\n"
     ]
    }
   ],
   "source": [
    "import tensorflow_datasets as tfds\n",
    "import tensorflow_text as tf_text\n",
    "from datetime import datetime\n",
    "#!pip install tensorflow_datasets\n",
    "#!pip install tensorflow-text\n",
    "import numpy as np\n",
    "import matplotlib.pyplot as plt\n",
    "import tensorflow as tf\n",
    "import pandas as pd\n",
    "print(tf.__version__)"
   ]
  },
  {
   "cell_type": "markdown",
   "id": "561e23ac",
   "metadata": {},
   "source": [
    " # Construir pipelines en TensorFlow "
   ]
  },
  {
   "cell_type": "markdown",
   "id": "24a9c83a",
   "metadata": {},
   "source": [
    "## La API tf.data.Dataset admite la escritura  descriptivas y pipelines eficientes. El uso del conjunto de datos sigue:\n",
    "\n",
    "* Creacion de un conjunto de datos original a partir de sus datos de entrada.\n",
    "* Aplicar transformaciones de conjuntos de datos para preprocesar los datos.\n",
    "* Iterar sobre el conjunto de datos y procesar los elementos.\n",
    "La iteración ocurre tipo streaming por lo que no es necesario que el conjunto de datos completo quepa en la memoria."
   ]
  },
  {
   "cell_type": "markdown",
   "id": "2e9a81a3",
   "metadata": {},
   "source": [
    "para construir un conjunto de datos a partir de datos en la memoria, puede usar:\n",
    "* tf.data.Dataset.from_tensors()\n",
    "* tf.data.Dataset.from_tensor_slices()\n",
    "* tf.data.TFRecordDataset() \n"
   ]
  },
  {
   "cell_type": "markdown",
   "id": "86d5a2c3-efb5-4efe-99f8-3ba1b0b78412",
   "metadata": {},
   "source": [
    "### Lista de python"
   ]
  },
  {
   "cell_type": "code",
   "execution_count": 216,
   "id": "c8607267-e046-46cd-89ed-0031a64ae3f1",
   "metadata": {},
   "outputs": [
    {
     "name": "stdout",
     "output_type": "stream",
     "text": [
      "(7, 10)\n"
     ]
    }
   ],
   "source": [
    "array_examp =np.array(range(70)).reshape(7,10)\n",
    "lista_examp = array_examp.tolist()\n",
    "print(array_examp.shape)"
   ]
  },
  {
   "cell_type": "code",
   "execution_count": 218,
   "id": "b2751f9f-8c14-487f-a8c2-6f2bf733ea6f",
   "metadata": {},
   "outputs": [],
   "source": [
    "dataset1 = tf.data.Dataset.from_tensor_slices(array_examp)\n",
    "dataset2 = tf.data.Dataset.from_tensors(array_examp)\n",
    "dataset_lista_1 = tf.data.Dataset.from_tensor_slices(lista_examp)\n",
    "dataset_lista_2 = tf.data.Dataset.from_tensors(lista_examp)"
   ]
  },
  {
   "cell_type": "code",
   "execution_count": 219,
   "id": "bbc49fab-8813-4b60-87f9-0a9c162f4ebc",
   "metadata": {},
   "outputs": [
    {
     "name": "stdout",
     "output_type": "stream",
     "text": [
      "TensorSpec(shape=(10,), dtype=tf.int64, name=None)\n",
      "TensorSpec(shape=(7, 10), dtype=tf.int64, name=None)\n",
      "TensorSpec(shape=(10,), dtype=tf.int32, name=None)\n",
      "TensorSpec(shape=(7, 10), dtype=tf.int32, name=None)\n"
     ]
    }
   ],
   "source": [
    "print(dataset1.element_spec)\n",
    "print(dataset2.element_spec)\n",
    "print(dataset_lista_1.element_spec)\n",
    "print(dataset_lista_2.element_spec)"
   ]
  },
  {
   "cell_type": "code",
   "execution_count": 220,
   "id": "a6a9abb3-5191-43df-8405-017c5ef13af5",
   "metadata": {},
   "outputs": [],
   "source": [
    "tensor1 = tf.ones([10,2,2])\n",
    "tensor2 = tf.ones([10,1])\n",
    "tensor3 = tf.ones([9,2,2])"
   ]
  },
  {
   "cell_type": "code",
   "execution_count": 221,
   "id": "0c2ad6a7",
   "metadata": {},
   "outputs": [],
   "source": [
    "dataset3 = tf.data.Dataset.from_tensor_slices((tensor1, tensor2))"
   ]
  },
  {
   "cell_type": "code",
   "execution_count": 222,
   "id": "4abb368a-f1af-4d43-a08b-a93134030def",
   "metadata": {},
   "outputs": [
    {
     "ename": "ValueError",
     "evalue": "Dimensions 10 and 9 are not compatible",
     "output_type": "error",
     "traceback": [
      "\u001b[0;31m---------------------------------------------------------------------------\u001b[0m",
      "\u001b[0;31mValueError\u001b[0m                                Traceback (most recent call last)",
      "\u001b[0;32m<ipython-input-222-b97e78fa29f4>\u001b[0m in \u001b[0;36m<module>\u001b[0;34m\u001b[0m\n\u001b[0;32m----> 1\u001b[0;31m \u001b[0mdataset4\u001b[0m \u001b[0;34m=\u001b[0m \u001b[0mtf\u001b[0m\u001b[0;34m.\u001b[0m\u001b[0mdata\u001b[0m\u001b[0;34m.\u001b[0m\u001b[0mDataset\u001b[0m\u001b[0;34m.\u001b[0m\u001b[0mfrom_tensor_slices\u001b[0m\u001b[0;34m(\u001b[0m\u001b[0;34m(\u001b[0m\u001b[0mtensor1\u001b[0m\u001b[0;34m,\u001b[0m \u001b[0mtensor3\u001b[0m\u001b[0;34m)\u001b[0m\u001b[0;34m)\u001b[0m\u001b[0;34m\u001b[0m\u001b[0;34m\u001b[0m\u001b[0m\n\u001b[0m",
      "\u001b[0;32m~/.local/lib/python3.8/site-packages/tensorflow/python/data/ops/dataset_ops.py\u001b[0m in \u001b[0;36mfrom_tensor_slices\u001b[0;34m(tensors, name)\u001b[0m\n\u001b[1;32m    779\u001b[0m       \u001b[0mDataset\u001b[0m\u001b[0;34m:\u001b[0m \u001b[0mA\u001b[0m\u001b[0;31m \u001b[0m\u001b[0;31m`\u001b[0m\u001b[0mDataset\u001b[0m\u001b[0;31m`\u001b[0m\u001b[0;34m.\u001b[0m\u001b[0;34m\u001b[0m\u001b[0;34m\u001b[0m\u001b[0m\n\u001b[1;32m    780\u001b[0m     \"\"\"\n\u001b[0;32m--> 781\u001b[0;31m     \u001b[0;32mreturn\u001b[0m \u001b[0mTensorSliceDataset\u001b[0m\u001b[0;34m(\u001b[0m\u001b[0mtensors\u001b[0m\u001b[0;34m,\u001b[0m \u001b[0mname\u001b[0m\u001b[0;34m=\u001b[0m\u001b[0mname\u001b[0m\u001b[0;34m)\u001b[0m\u001b[0;34m\u001b[0m\u001b[0;34m\u001b[0m\u001b[0m\n\u001b[0m\u001b[1;32m    782\u001b[0m \u001b[0;34m\u001b[0m\u001b[0m\n\u001b[1;32m    783\u001b[0m   \u001b[0;32mclass\u001b[0m \u001b[0m_GeneratorState\u001b[0m\u001b[0;34m(\u001b[0m\u001b[0mobject\u001b[0m\u001b[0;34m)\u001b[0m\u001b[0;34m:\u001b[0m\u001b[0;34m\u001b[0m\u001b[0;34m\u001b[0m\u001b[0m\n",
      "\u001b[0;32m~/.local/lib/python3.8/site-packages/tensorflow/python/data/ops/dataset_ops.py\u001b[0m in \u001b[0;36m__init__\u001b[0;34m(self, element, is_files, name)\u001b[0m\n\u001b[1;32m   4673\u001b[0m         tensor_shape.dimension_value(self._tensors[0].get_shape()[0]))\n\u001b[1;32m   4674\u001b[0m     \u001b[0;32mfor\u001b[0m \u001b[0mt\u001b[0m \u001b[0;32min\u001b[0m \u001b[0mself\u001b[0m\u001b[0;34m.\u001b[0m\u001b[0m_tensors\u001b[0m\u001b[0;34m[\u001b[0m\u001b[0;36m1\u001b[0m\u001b[0;34m:\u001b[0m\u001b[0;34m]\u001b[0m\u001b[0;34m:\u001b[0m\u001b[0;34m\u001b[0m\u001b[0;34m\u001b[0m\u001b[0m\n\u001b[0;32m-> 4675\u001b[0;31m       batch_dim.assert_is_compatible_with(\n\u001b[0m\u001b[1;32m   4676\u001b[0m           tensor_shape.Dimension(\n\u001b[1;32m   4677\u001b[0m               tensor_shape.dimension_value(t.get_shape()[0])))\n",
      "\u001b[0;32m~/.local/lib/python3.8/site-packages/tensorflow/python/framework/tensor_shape.py\u001b[0m in \u001b[0;36massert_is_compatible_with\u001b[0;34m(self, other)\u001b[0m\n\u001b[1;32m    296\u001b[0m     \"\"\"\n\u001b[1;32m    297\u001b[0m     \u001b[0;32mif\u001b[0m \u001b[0;32mnot\u001b[0m \u001b[0mself\u001b[0m\u001b[0;34m.\u001b[0m\u001b[0mis_compatible_with\u001b[0m\u001b[0;34m(\u001b[0m\u001b[0mother\u001b[0m\u001b[0;34m)\u001b[0m\u001b[0;34m:\u001b[0m\u001b[0;34m\u001b[0m\u001b[0;34m\u001b[0m\u001b[0m\n\u001b[0;32m--> 298\u001b[0;31m       raise ValueError(\"Dimensions %s and %s are not compatible\" %\n\u001b[0m\u001b[1;32m    299\u001b[0m                        (self, other))\n\u001b[1;32m    300\u001b[0m \u001b[0;34m\u001b[0m\u001b[0m\n",
      "\u001b[0;31mValueError\u001b[0m: Dimensions 10 and 9 are not compatible"
     ]
    }
   ],
   "source": [
    "dataset4 = tf.data.Dataset.from_tensor_slices((tensor1, tensor3))"
   ]
  },
  {
   "cell_type": "code",
   "execution_count": 223,
   "id": "45842dec-e5e6-4498-a5f6-4f89b75ff5ea",
   "metadata": {},
   "outputs": [],
   "source": [
    "dataset5 = tf.data.Dataset.from_tensors((tensor1, tensor2))\n",
    "dataset6 = tf.data.Dataset.from_tensors((tensor1, tensor3))"
   ]
  },
  {
   "cell_type": "code",
   "execution_count": 224,
   "id": "2afbc887-94a5-4cdb-afb2-3ffa8d2e6881",
   "metadata": {},
   "outputs": [
    {
     "name": "stdout",
     "output_type": "stream",
     "text": [
      "(TensorSpec(shape=(2, 2), dtype=tf.float32, name=None), TensorSpec(shape=(1,), dtype=tf.float32, name=None))\n",
      "(TensorSpec(shape=(10, 2, 2), dtype=tf.float32, name=None), TensorSpec(shape=(10, 1), dtype=tf.float32, name=None))\n",
      "(TensorSpec(shape=(10, 2, 2), dtype=tf.float32, name=None), TensorSpec(shape=(9, 2, 2), dtype=tf.float32, name=None))\n"
     ]
    }
   ],
   "source": [
    "print(dataset3.element_spec)\n",
    "print(dataset5.element_spec)\n",
    "print(dataset6.element_spec)"
   ]
  },
  {
   "cell_type": "code",
   "execution_count": 225,
   "id": "01fbafea-aef7-475f-bdab-937a3a7544b2",
   "metadata": {},
   "outputs": [
    {
     "name": "stdout",
     "output_type": "stream",
     "text": [
      "(TensorSpec(shape=(10,), dtype=tf.int64, name=None), TensorSpec(shape=(7, 10), dtype=tf.int64, name=None))\n",
      "shapes: (10,), (7, 10)\n"
     ]
    }
   ],
   "source": [
    "dataset3 = tf.data.Dataset.zip((dataset1, dataset2))\n",
    "print(dataset3.element_spec)\n",
    "for a, b in dataset3:\n",
    "      print('shapes: {a.shape}, {b.shape}'.format(a=a, b=b))\n"
   ]
  },
  {
   "cell_type": "markdown",
   "id": "cbe835b0-d3b2-4c5c-90b4-ba78a43dbea7",
   "metadata": {},
   "source": [
    "### Iteracion"
   ]
  },
  {
   "cell_type": "code",
   "execution_count": 226,
   "id": "ec564441-26bb-4a15-9651-cf281caf35c7",
   "metadata": {},
   "outputs": [
    {
     "name": "stdout",
     "output_type": "stream",
     "text": [
      "[0 1 2 3 4 5 6 7 8 9]\n",
      "[10 11 12 13 14 15 16 17 18 19]\n",
      "[20 21 22 23 24 25 26 27 28 29]\n",
      "[30 31 32 33 34 35 36 37 38 39]\n",
      "[40 41 42 43 44 45 46 47 48 49]\n",
      "[50 51 52 53 54 55 56 57 58 59]\n",
      "[60 61 62 63 64 65 66 67 68 69]\n"
     ]
    }
   ],
   "source": [
    "for elem in dataset1:\n",
    "  print(elem.numpy())"
   ]
  },
  {
   "cell_type": "markdown",
   "id": "499e11ef-7b7a-4a02-86bb-5bb120a848bc",
   "metadata": {},
   "source": [
    "### Enumerar"
   ]
  },
  {
   "cell_type": "code",
   "execution_count": 228,
   "id": "23f0138f-650f-45de-96d1-1aae2c1b6f30",
   "metadata": {},
   "outputs": [
    {
     "name": "stdout",
     "output_type": "stream",
     "text": [
      "(5, array([0, 1, 2, 3, 4, 5, 6, 7, 8, 9]))\n",
      "(6, array([10, 11, 12, 13, 14, 15, 16, 17, 18, 19]))\n",
      "(7, array([20, 21, 22, 23, 24, 25, 26, 27, 28, 29]))\n",
      "(8, array([30, 31, 32, 33, 34, 35, 36, 37, 38, 39]))\n",
      "(9, array([40, 41, 42, 43, 44, 45, 46, 47, 48, 49]))\n",
      "(10, array([50, 51, 52, 53, 54, 55, 56, 57, 58, 59]))\n",
      "(11, array([60, 61, 62, 63, 64, 65, 66, 67, 68, 69]))\n"
     ]
    }
   ],
   "source": [
    "dataset_enu = dataset1.enumerate(start=5)\n",
    "for element in dataset_enu.as_numpy_iterator():\n",
    "  print(element)"
   ]
  },
  {
   "cell_type": "markdown",
   "id": "b006c202-d646-4c5c-a1c3-79965d710dd5",
   "metadata": {},
   "source": [
    "### Barajar"
   ]
  },
  {
   "cell_type": "code",
   "execution_count": 172,
   "id": "a19c94e5-bc09-41d4-bdc4-0dee402a4df4",
   "metadata": {},
   "outputs": [
    {
     "ename": "NameError",
     "evalue": "name 'dataset1' is not defined",
     "output_type": "error",
     "traceback": [
      "\u001b[0;31m---------------------------------------------------------------------------\u001b[0m",
      "\u001b[0;31mNameError\u001b[0m                                 Traceback (most recent call last)",
      "\u001b[0;32m<ipython-input-172-cc430f18ec6d>\u001b[0m in \u001b[0;36m<module>\u001b[0;34m\u001b[0m\n\u001b[0;32m----> 1\u001b[0;31m \u001b[0mdataset_shu\u001b[0m \u001b[0;34m=\u001b[0m \u001b[0mdataset1\u001b[0m\u001b[0;34m.\u001b[0m\u001b[0mshuffle\u001b[0m\u001b[0;34m(\u001b[0m\u001b[0mlen\u001b[0m\u001b[0;34m(\u001b[0m\u001b[0mdataset1\u001b[0m\u001b[0;34m)\u001b[0m\u001b[0;34m,\u001b[0m \u001b[0mreshuffle_each_iteration\u001b[0m\u001b[0;34m=\u001b[0m\u001b[0;32mTrue\u001b[0m\u001b[0;34m)\u001b[0m\u001b[0;34m\u001b[0m\u001b[0;34m\u001b[0m\u001b[0m\n\u001b[0m\u001b[1;32m      2\u001b[0m \u001b[0mdataset_shu\u001b[0m\u001b[0;34m=\u001b[0m\u001b[0mdataset_shu\u001b[0m\u001b[0;34m.\u001b[0m\u001b[0mrepeat\u001b[0m\u001b[0;34m(\u001b[0m\u001b[0mcount\u001b[0m\u001b[0;34m=\u001b[0m\u001b[0;36m4\u001b[0m\u001b[0;34m)\u001b[0m \u001b[0;31m## si count =-1 => se repite indefinidamente\u001b[0m\u001b[0;34m\u001b[0m\u001b[0;34m\u001b[0m\u001b[0m\n\u001b[1;32m      3\u001b[0m \u001b[0;32mfor\u001b[0m \u001b[0melement\u001b[0m \u001b[0;32min\u001b[0m \u001b[0mdataset_shu\u001b[0m\u001b[0;34m.\u001b[0m\u001b[0mas_numpy_iterator\u001b[0m\u001b[0;34m(\u001b[0m\u001b[0;34m)\u001b[0m\u001b[0;34m:\u001b[0m\u001b[0;34m\u001b[0m\u001b[0;34m\u001b[0m\u001b[0m\n\u001b[1;32m      4\u001b[0m   \u001b[0mprint\u001b[0m\u001b[0;34m(\u001b[0m\u001b[0melement\u001b[0m\u001b[0;34m)\u001b[0m\u001b[0;34m\u001b[0m\u001b[0;34m\u001b[0m\u001b[0m\n",
      "\u001b[0;31mNameError\u001b[0m: name 'dataset1' is not defined"
     ]
    }
   ],
   "source": [
    "dataset_shu = dataset1.shuffle(len(dataset1), reshuffle_each_iteration=True)\n",
    "dataset_shu=dataset_shu.repeat(count=4) ## si count =-1 => se repite indefinidamente \n",
    "for element in dataset_shu.as_numpy_iterator():\n",
    "  print(element)"
   ]
  },
  {
   "cell_type": "markdown",
   "id": "84de72f5-44ae-4f14-9db3-ce8163f86d69",
   "metadata": {},
   "source": [
    "### Batch"
   ]
  },
  {
   "cell_type": "code",
   "execution_count": 233,
   "id": "1d4bb5fa-dbba-4d31-abf6-f03f6891c6c3",
   "metadata": {},
   "outputs": [
    {
     "name": "stdout",
     "output_type": "stream",
     "text": [
      "(0, array([0, 1, 2]))\n",
      "(1, array([3, 4, 5]))\n",
      "(2, array([6, 7, 8]))\n",
      "(3, array([ 9, 10, 11]))\n",
      "(4, array([12, 13, 14]))\n",
      "(5, array([15, 16, 17]))\n",
      "(6, array([18, 19]))\n"
     ]
    }
   ],
   "source": [
    "dataset_range = tf.data.Dataset.range(20) #[0,1,2,...19]\n",
    "dataset_range = dataset_range.batch(3)\n",
    "dataset_range = dataset_range.enumerate(start=0)\n",
    "for element in dataset_range.as_numpy_iterator():\n",
    "  print(element)"
   ]
  },
  {
   "cell_type": "code",
   "execution_count": 234,
   "id": "4eb77ed6-cffb-4d85-ba22-c48d710772f1",
   "metadata": {},
   "outputs": [
    {
     "name": "stdout",
     "output_type": "stream",
     "text": [
      "(0, array([0, 1, 2]))\n",
      "(1, array([3, 4, 5]))\n",
      "(2, array([6, 7, 8]))\n",
      "(3, array([ 9, 10, 11]))\n",
      "(4, array([12, 13, 14]))\n",
      "(5, array([15, 16, 17]))\n"
     ]
    }
   ],
   "source": [
    "dataset_range = tf.data.Dataset.range(20) #[0,1,2,...19]\n",
    "dataset_range = dataset_range.batch(3,drop_remainder=True)\n",
    "dataset_range = dataset_range.enumerate(start=0)\n",
    "for element in dataset_range.as_numpy_iterator():\n",
    "  print(element)"
   ]
  },
  {
   "cell_type": "code",
   "execution_count": 235,
   "id": "fa80880d-029c-4494-9528-0f7385594b90",
   "metadata": {},
   "outputs": [
    {
     "name": "stdout",
     "output_type": "stream",
     "text": [
      "0 [0 1 2]\n",
      "1 [3 4 5]\n"
     ]
    }
   ],
   "source": [
    "for element in dataset_range.take(2):   ##Take()\n",
    "  print(element[0].numpy(),element[1].numpy())"
   ]
  },
  {
   "cell_type": "code",
   "execution_count": 237,
   "id": "cf9e7287-89c0-414b-a2c0-572377bb3d81",
   "metadata": {},
   "outputs": [
    {
     "name": "stdout",
     "output_type": "stream",
     "text": [
      "(0, array([[ 0,  1,  2,  3,  4,  5,  6,  7,  8,  9],\n",
      "       [10, 11, 12, 13, 14, 15, 16, 17, 18, 19],\n",
      "       [20, 21, 22, 23, 24, 25, 26, 27, 28, 29]]))\n",
      "(1, array([[30, 31, 32, 33, 34, 35, 36, 37, 38, 39],\n",
      "       [40, 41, 42, 43, 44, 45, 46, 47, 48, 49],\n",
      "       [50, 51, 52, 53, 54, 55, 56, 57, 58, 59]]))\n",
      "(2, array([[60, 61, 62, 63, 64, 65, 66, 67, 68, 69]]))\n"
     ]
    }
   ],
   "source": [
    "dataset1_range = dataset1.batch(3)\n",
    "dataset1_range = dataset1_range.enumerate(start=0)\n",
    "for element in dataset1_range.as_numpy_iterator():\n",
    "  print(element)"
   ]
  },
  {
   "cell_type": "code",
   "execution_count": 238,
   "id": "28fb42e5-a516-4221-9515-277ff26dd53e",
   "metadata": {},
   "outputs": [
    {
     "name": "stdout",
     "output_type": "stream",
     "text": [
      "(0, array([[0, 1, 2, 3, 4, 5, 6, 7, 8, 9]]))\n",
      "(1, array([[10, 11, 12, 13, 14, 15, 16, 17, 18, 19]]))\n",
      "(2, array([[20, 21, 22, 23, 24, 25, 26, 27, 28, 29]]))\n",
      "(3, array([[30, 31, 32, 33, 34, 35, 36, 37, 38, 39]]))\n",
      "(4, array([[40, 41, 42, 43, 44, 45, 46, 47, 48, 49]]))\n",
      "(5, array([[50, 51, 52, 53, 54, 55, 56, 57, 58, 59]]))\n",
      "(6, array([[60, 61, 62, 63, 64, 65, 66, 67, 68, 69]]))\n"
     ]
    }
   ],
   "source": [
    "dataset1_range = dataset1.batch(1)\n",
    "dataset1_range = dataset1_range.enumerate(start=0)\n",
    "for element in dataset1_range.as_numpy_iterator():\n",
    "  print(element)"
   ]
  },
  {
   "cell_type": "markdown",
   "id": "9a7df3c3-c716-48dc-9456-ca12e1aa7e74",
   "metadata": {},
   "source": [
    "### funcion map "
   ]
  },
  {
   "cell_type": "code",
   "execution_count": 239,
   "id": "fa1da9d5-8d32-4fb0-9851-afd94879c56d",
   "metadata": {},
   "outputs": [],
   "source": [
    "def dense_1_step(batch):\n",
    "  return batch[:-1], batch[1:]"
   ]
  },
  {
   "cell_type": "code",
   "execution_count": 240,
   "id": "44a70ed5-d9ed-4675-a1af-5891adc7f8e5",
   "metadata": {},
   "outputs": [
    {
     "name": "stdout",
     "output_type": "stream",
     "text": [
      "[0 1 2 3 4 5 6 7 8]  =>  [1 2 3 4 5 6 7 8 9]\n",
      "[10 11 12 13 14 15 16 17 18]  =>  [11 12 13 14 15 16 17 18 19]\n",
      "[20 21 22 23 24 25 26 27 28]  =>  [21 22 23 24 25 26 27 28 29]\n",
      "[30 31 32 33 34 35 36 37 38]  =>  [31 32 33 34 35 36 37 38 39]\n",
      "[40 41 42 43 44 45 46 47 48]  =>  [41 42 43 44 45 46 47 48 49]\n",
      "[50 51 52 53 54 55 56 57 58]  =>  [51 52 53 54 55 56 57 58 59]\n",
      "[60 61 62 63 64 65 66 67 68]  =>  [61 62 63 64 65 66 67 68 69]\n"
     ]
    }
   ],
   "source": [
    "predict_dense_1_step =dataset1.map(dense_1_step)\n",
    "\n",
    "for features, label in predict_dense_1_step:\n",
    "  print(features.numpy(), \" => \", label.numpy())"
   ]
  },
  {
   "cell_type": "markdown",
   "id": "c66d4f67-4ed6-400b-be08-8b0671740223",
   "metadata": {},
   "source": [
    "### funcion flat_map "
   ]
  },
  {
   "cell_type": "code",
   "execution_count": 243,
   "id": "08fbbef5-311f-412c-9b30-100989b84387",
   "metadata": {},
   "outputs": [
    {
     "data": {
      "text/plain": [
       "[0,\n",
       " 1,\n",
       " 2,\n",
       " 3,\n",
       " 4,\n",
       " 5,\n",
       " 6,\n",
       " 7,\n",
       " 8,\n",
       " 9,\n",
       " 10,\n",
       " 11,\n",
       " 12,\n",
       " 13,\n",
       " 14,\n",
       " 15,\n",
       " 16,\n",
       " 17,\n",
       " 18,\n",
       " 19,\n",
       " 20,\n",
       " 21,\n",
       " 22,\n",
       " 23,\n",
       " 24,\n",
       " 25,\n",
       " 26,\n",
       " 27,\n",
       " 28,\n",
       " 29,\n",
       " 30,\n",
       " 31,\n",
       " 32,\n",
       " 33,\n",
       " 34,\n",
       " 35,\n",
       " 36,\n",
       " 37,\n",
       " 38,\n",
       " 39,\n",
       " 40,\n",
       " 41,\n",
       " 42,\n",
       " 43,\n",
       " 44,\n",
       " 45,\n",
       " 46,\n",
       " 47,\n",
       " 48,\n",
       " 49,\n",
       " 50,\n",
       " 51,\n",
       " 52,\n",
       " 53,\n",
       " 54,\n",
       " 55,\n",
       " 56,\n",
       " 57,\n",
       " 58,\n",
       " 59,\n",
       " 60,\n",
       " 61,\n",
       " 62,\n",
       " 63,\n",
       " 64,\n",
       " 65,\n",
       " 66,\n",
       " 67,\n",
       " 68,\n",
       " 69]"
      ]
     },
     "execution_count": 243,
     "metadata": {},
     "output_type": "execute_result"
    }
   ],
   "source": [
    "dataset = dataset1.flat_map(\n",
    "    lambda x: tf.data.Dataset.from_tensor_slices(x))\n",
    "list(dataset.as_numpy_iterator())"
   ]
  },
  {
   "cell_type": "markdown",
   "id": "12e881e7-b4a7-4120-8335-f22b0e381395",
   "metadata": {},
   "source": [
    "### Dataset como texto .txt"
   ]
  },
  {
   "cell_type": "code",
   "execution_count": 244,
   "id": "3568ceb0-1a3b-4e38-a6fe-62ba44b2d558",
   "metadata": {},
   "outputs": [
    {
     "data": {
      "text/plain": [
       "\"FROM fairest creatures we desire increase, That thereby beauty's rose might never die, But as the riper should by time decease, His tender heir might bear his memory: But thou, contracted to thine own bright eyes, Feed'st thy light'st flame with self-substantial fuel, Making a famine where abundance lies, Thyself thy foe, to thy sweet self too cruel. Thou that art now the world's fresh ornament And only herald to the gaudy spring, Within thine own bud buriest thy content And, tender churl, makes\""
      ]
     },
     "execution_count": 244,
     "metadata": {},
     "output_type": "execute_result"
    }
   ],
   "source": [
    "with open('sonnets.txt', 'r', encoding='utf-8') as file:\n",
    "    text_string = file.read().replace('\\n', ' ')\n",
    "text_string[:500]"
   ]
  },
  {
   "cell_type": "code",
   "execution_count": 245,
   "id": "a113ca22-302e-41ce-b8bc-4ca6ee1b6ff4",
   "metadata": {},
   "outputs": [],
   "source": [
    "dataset_text = tf.data.TextLineDataset([\"sonnets.txt\", \"sonnets(1).txt\"])"
   ]
  },
  {
   "cell_type": "code",
   "execution_count": 246,
   "id": "29554e2f-0074-4f8d-8ed8-89e6131ca347",
   "metadata": {},
   "outputs": [],
   "source": [
    "dataset_text_set = tf.data.Dataset.list_files(\"./*.txt\")"
   ]
  },
  {
   "cell_type": "markdown",
   "id": "6c7dac33-30a6-4c15-ab48-1c839870daf6",
   "metadata": {},
   "source": [
    "### Dataset en formato .csv"
   ]
  },
  {
   "cell_type": "code",
   "execution_count": 247,
   "id": "a37f44d1-b1b3-4ea3-b055-6a06a059672d",
   "metadata": {},
   "outputs": [
    {
     "data": {
      "text/html": [
       "<div>\n",
       "<style scoped>\n",
       "    .dataframe tbody tr th:only-of-type {\n",
       "        vertical-align: middle;\n",
       "    }\n",
       "\n",
       "    .dataframe tbody tr th {\n",
       "        vertical-align: top;\n",
       "    }\n",
       "\n",
       "    .dataframe thead th {\n",
       "        text-align: right;\n",
       "    }\n",
       "</style>\n",
       "<table border=\"1\" class=\"dataframe\">\n",
       "  <thead>\n",
       "    <tr style=\"text-align: right;\">\n",
       "      <th></th>\n",
       "      <th>Unnamed: 0</th>\n",
       "      <th>Date</th>\n",
       "      <th>Monthly Mean Total Sunspot Number</th>\n",
       "    </tr>\n",
       "  </thead>\n",
       "  <tbody>\n",
       "    <tr>\n",
       "      <th>0</th>\n",
       "      <td>0</td>\n",
       "      <td>1749-01-31</td>\n",
       "      <td>96.7</td>\n",
       "    </tr>\n",
       "    <tr>\n",
       "      <th>1</th>\n",
       "      <td>1</td>\n",
       "      <td>1749-02-28</td>\n",
       "      <td>104.3</td>\n",
       "    </tr>\n",
       "    <tr>\n",
       "      <th>2</th>\n",
       "      <td>2</td>\n",
       "      <td>1749-03-31</td>\n",
       "      <td>116.7</td>\n",
       "    </tr>\n",
       "    <tr>\n",
       "      <th>3</th>\n",
       "      <td>3</td>\n",
       "      <td>1749-04-30</td>\n",
       "      <td>92.8</td>\n",
       "    </tr>\n",
       "    <tr>\n",
       "      <th>4</th>\n",
       "      <td>4</td>\n",
       "      <td>1749-05-31</td>\n",
       "      <td>141.7</td>\n",
       "    </tr>\n",
       "  </tbody>\n",
       "</table>\n",
       "</div>"
      ],
      "text/plain": [
       "   Unnamed: 0        Date  Monthly Mean Total Sunspot Number\n",
       "0           0  1749-01-31                               96.7\n",
       "1           1  1749-02-28                              104.3\n",
       "2           2  1749-03-31                              116.7\n",
       "3           3  1749-04-30                               92.8\n",
       "4           4  1749-05-31                              141.7"
      ]
     },
     "execution_count": 247,
     "metadata": {},
     "output_type": "execute_result"
    }
   ],
   "source": [
    "pandas_dataframe = pd.read_csv('Sunspots.csv')\n",
    "pandas_dataframe.head()"
   ]
  },
  {
   "cell_type": "code",
   "execution_count": 248,
   "id": "60d7af6d-0b99-46b2-8bc8-a4ca0e3e465b",
   "metadata": {},
   "outputs": [
    {
     "name": "stdout",
     "output_type": "stream",
     "text": [
      "dict_keys(['Unnamed: 0', 'Date', 'Monthly Mean Total Sunspot Number'])\n",
      "tamano del dataframe:  3235\n"
     ]
    }
   ],
   "source": [
    "dataframe_dict = dict(pandas_dataframe)\n",
    "print(dataframe_dict.keys())\n",
    "print(\"tamano del dataframe: \",len(pandas_dataframe))"
   ]
  },
  {
   "cell_type": "code",
   "execution_count": 249,
   "id": "e29f0662-bd0c-411d-9c19-3ffc29a0ba48",
   "metadata": {},
   "outputs": [
    {
     "name": "stdout",
     "output_type": "stream",
     "text": [
      "3235\n"
     ]
    }
   ],
   "source": [
    "pandas_dataset = tf.data.Dataset.from_tensor_slices(dataframe_dict)\n",
    "pandas_dataset.element_spec\n",
    "print(pandas_dataset.cardinality().numpy())"
   ]
  },
  {
   "cell_type": "code",
   "execution_count": 250,
   "id": "36ee3c46-e16c-4242-979a-3d4d6aa3c630",
   "metadata": {},
   "outputs": [
    {
     "data": {
      "text/plain": [
       "(OrderedDict([('', TensorSpec(shape=(1,), dtype=tf.int32, name=None)),\n",
       "              ('Date', TensorSpec(shape=(1,), dtype=tf.string, name=None))]),\n",
       " TensorSpec(shape=(1,), dtype=tf.float32, name=None))"
      ]
     },
     "execution_count": 250,
     "metadata": {},
     "output_type": "execute_result"
    }
   ],
   "source": [
    "csv_dataset = tf.data.experimental.make_csv_dataset('Sunspots.csv',\n",
    "                                                    batch_size=1,\n",
    "                                                    label_name='Monthly Mean Total Sunspot Number')\n",
    "csv_dataset.element_spec"
   ]
  },
  {
   "cell_type": "code",
   "execution_count": 251,
   "id": "29682431-dadc-4657-a23d-f52a49c02315",
   "metadata": {},
   "outputs": [],
   "source": [
    "def extract_time(x,label):\n",
    "    date_ = datetime.fromisoformat(x.numpy()[0].decode(\"utf-8\"))\n",
    "    year =date_.year\n",
    "    month =date_.month\n",
    "    day =date_.day\n",
    "    return day, year, month, label\n",
    "\n",
    "\n",
    "data_map=csv_dataset.map(lambda x,z: tf.py_function(extract_time, [x['Date'],z], [tf.int32,tf.int32,tf.int32,tf.float32])).take(5)"
   ]
  },
  {
   "cell_type": "code",
   "execution_count": 252,
   "id": "67ceb581-85ad-4bb0-a673-87a736dd291c",
   "metadata": {},
   "outputs": [
    {
     "name": "stdout",
     "output_type": "stream",
     "text": [
      "30 1779 11 [190.]\n",
      "30 1848 6 [214.9]\n",
      "30 1986 6 [0.6]\n",
      "31 2012 10 [76.5]\n",
      "31 2002 1 [184.6]\n"
     ]
    }
   ],
   "source": [
    "for df in data_map:\n",
    "    day, year, month,label = df\n",
    "    print(day.numpy(),year.numpy(),month.numpy(),label.numpy())\n"
   ]
  },
  {
   "cell_type": "code",
   "execution_count": null,
   "id": "17bcb097-1c7f-4a4a-96ec-31d5dcadccbd",
   "metadata": {},
   "outputs": [],
   "source": []
  },
  {
   "cell_type": "code",
   "execution_count": null,
   "id": "f1fc13d2-b2b0-48ca-a75b-6cfc4c7271dd",
   "metadata": {},
   "outputs": [],
   "source": []
  },
  {
   "cell_type": "code",
   "execution_count": null,
   "id": "79577b84-9828-4a9a-9aa9-30b549e697dd",
   "metadata": {},
   "outputs": [],
   "source": []
  },
  {
   "cell_type": "markdown",
   "id": "af89b53b-22c5-4ad8-af33-94563388bf39",
   "metadata": {},
   "source": [
    "### Descargar datos predefinidos de https://www.tensorflow.org/datasets/catalog/overview"
   ]
  },
  {
   "cell_type": "code",
   "execution_count": 3,
   "id": "e9d429a5-402f-46f7-be8f-9da96dd82b89",
   "metadata": {},
   "outputs": [],
   "source": [
    "(ds_train, ds_test), ds_info = tfds.load(\n",
    "    name = 'mnist',\n",
    "    split=['train', 'test'],\n",
    "    shuffle_files=True,\n",
    "    as_supervised=True,\n",
    "    with_info=True)"
   ]
  },
  {
   "cell_type": "code",
   "execution_count": 4,
   "id": "73bf5652-a28c-42cd-a5d8-598d0f86b690",
   "metadata": {},
   "outputs": [
    {
     "data": {
      "image/png": "[encoded data removed]",
      "text/plain": [
       "<Figure size 648x648 with 9 Axes>"
      ]
     },
     "metadata": {},
     "output_type": "display_data"
    }
   ],
   "source": [
    "fig = tfds.show_examples(ds_train, ds_info)"
   ]
  },
  {
   "cell_type": "code",
   "execution_count": null,
   "id": "b56835a1-231c-4652-a4a6-342c563ff7d1",
   "metadata": {},
   "outputs": [],
   "source": []
  },
  {
   "cell_type": "code",
   "execution_count": 58,
   "id": "86a09f2a-8b82-47cf-a099-939f30ce4e0b",
   "metadata": {},
   "outputs": [],
   "source": [
    "def normalize_img(image,label ):\n",
    "  return tf.cast(image, tf.float32) / 255., tf.one_hot(label,depth=10)\n",
    "\n",
    "\n",
    "def data_load(data_ds,augmented=normalize_img,shuffle_=True ,batch_=5):\n",
    "    data_ds = data_ds.map(\n",
    "        augmented, num_parallel_calls=tf.data.AUTOTUNE)\n",
    "    data_ds = data_ds.cache()\n",
    "    if shuffle_:\n",
    "        data_ds = data_ds.shuffle(len(data_ds))\n",
    "    data_ds = data_ds.batch(batch_)\n",
    "    data_ds = data_ds.prefetch(tf.data.AUTOTUNE)\n",
    "    return data_ds"
   ]
  },
  {
   "cell_type": "code",
   "execution_count": 59,
   "id": "2cf9aae8-9f7c-4883-be3e-3d33d2eade31",
   "metadata": {},
   "outputs": [],
   "source": [
    "data_train = data_load(ds_train)\n",
    "data_test = data_load(ds_test,shuffle_=False)"
   ]
  },
  {
   "cell_type": "code",
   "execution_count": 60,
   "id": "747610fc-3bc3-4fd3-9fdc-d3ce0d1b2241",
   "metadata": {},
   "outputs": [
    {
     "name": "stdout",
     "output_type": "stream",
     "text": [
      "(5, 28, 28, 1) tf.Tensor(\n",
      "[[0. 0. 0. 0. 0. 0. 0. 0. 0. 1.]\n",
      " [0. 0. 1. 0. 0. 0. 0. 0. 0. 0.]\n",
      " [1. 0. 0. 0. 0. 0. 0. 0. 0. 0.]\n",
      " [0. 0. 0. 0. 0. 0. 0. 0. 1. 0.]\n",
      " [0. 0. 0. 0. 0. 0. 1. 0. 0. 0.]], shape=(5, 10), dtype=float32)\n",
      "(5, 28, 28, 1) tf.Tensor(\n",
      "[[0. 0. 0. 1. 0. 0. 0. 0. 0. 0.]\n",
      " [1. 0. 0. 0. 0. 0. 0. 0. 0. 0.]\n",
      " [0. 0. 0. 0. 0. 0. 0. 0. 0. 1.]\n",
      " [0. 0. 0. 0. 0. 0. 0. 1. 0. 0.]\n",
      " [0. 0. 0. 0. 0. 0. 0. 0. 1. 0.]], shape=(5, 10), dtype=float32)\n",
      "(5, 28, 28, 1) tf.Tensor(\n",
      "[[0. 0. 0. 0. 0. 0. 1. 0. 0. 0.]\n",
      " [0. 0. 0. 0. 0. 0. 1. 0. 0. 0.]\n",
      " [0. 0. 0. 0. 0. 0. 1. 0. 0. 0.]\n",
      " [1. 0. 0. 0. 0. 0. 0. 0. 0. 0.]\n",
      " [0. 0. 0. 0. 0. 0. 0. 1. 0. 0.]], shape=(5, 10), dtype=float32)\n",
      "(5, 28, 28, 1) tf.Tensor(\n",
      "[[1. 0. 0. 0. 0. 0. 0. 0. 0. 0.]\n",
      " [0. 0. 0. 0. 0. 0. 0. 0. 0. 1.]\n",
      " [0. 0. 0. 0. 0. 0. 0. 1. 0. 0.]\n",
      " [0. 0. 0. 0. 0. 1. 0. 0. 0. 0.]\n",
      " [0. 0. 1. 0. 0. 0. 0. 0. 0. 0.]], shape=(5, 10), dtype=float32)\n"
     ]
    },
    {
     "data": {
      "image/png": "[encoded data removed]",
      "text/plain": [
       "<Figure size 216x216 with 4 Axes>"
      ]
     },
     "metadata": {
      "needs_background": "light"
     },
     "output_type": "display_data"
    }
   ],
   "source": [
    "plt.figure(figsize=(3, 3))\n",
    "i=0\n",
    "for ds,lb in data_train.take(4):\n",
    "    print(ds.shape,lb)\n",
    "    ax = plt.subplot(2, 2, i + 1)\n",
    "    plt.imshow(ds[0].numpy())\n",
    "    index = tf.argmax(lb, axis=1)\n",
    "    plt.title('{}'.format(index[0].numpy()))\n",
    "    plt.axis(\"off\")\n",
    "    i+=1"
   ]
  },
  {
   "cell_type": "markdown",
   "id": "13476b59-e119-4b70-a663-836fe1207cea",
   "metadata": {},
   "source": [
    "### Data Augmentation: https://www.tensorflow.org/guide/keras/preprocessing_layers"
   ]
  },
  {
   "cell_type": "markdown",
   "id": "01fdba53-13e2-4041-844d-4339f05df3d7",
   "metadata": {},
   "source": [
    "### Metodo 1. sobre tf.data"
   ]
  },
  {
   "cell_type": "code",
   "execution_count": 62,
   "id": "6f362e9c-88ee-4e7d-b5c4-1af1bc7cd2e6",
   "metadata": {},
   "outputs": [],
   "source": [
    "def augment_data(images, labels):\n",
    "    images = tf.image.random_flip_left_right(images)\n",
    "    images = tf.image.random_flip_up_down(images)\n",
    "    images = tf.image.rot90(images)\n",
    "    return images, labels"
   ]
  },
  {
   "cell_type": "code",
   "execution_count": 63,
   "id": "f717e177-97e3-4b89-8991-1ee5fda56f63",
   "metadata": {},
   "outputs": [],
   "source": [
    "data_train = data_load(ds_train,augmented=augment_data)\n",
    "data_test = data_load(ds_test,augmented=augment_data,shuffle_=False)"
   ]
  },
  {
   "cell_type": "code",
   "execution_count": 65,
   "id": "d4ee6170-5d66-4efe-bad5-5f8df1ac1ae2",
   "metadata": {},
   "outputs": [
    {
     "name": "stdout",
     "output_type": "stream",
     "text": [
      "(5, 28, 28, 1) tf.Tensor([3 7 9 7 4], shape=(5,), dtype=int64)\n",
      "(5, 28, 28, 1) tf.Tensor([1 5 0 2 2], shape=(5,), dtype=int64)\n",
      "(5, 28, 28, 1) tf.Tensor([8 4 9 0 9], shape=(5,), dtype=int64)\n",
      "(5, 28, 28, 1) tf.Tensor([2 8 9 6 7], shape=(5,), dtype=int64)\n"
     ]
    },
    {
     "data": {
      "image/png": "[encoded data removed]",
      "text/plain": [
       "<Figure size 216x216 with 4 Axes>"
      ]
     },
     "metadata": {
      "needs_background": "light"
     },
     "output_type": "display_data"
    }
   ],
   "source": [
    "plt.figure(figsize=(3, 3))\n",
    "i=0\n",
    "for ds,lb in data_train.take(4):\n",
    "    print(ds.shape,lb)\n",
    "    ax = plt.subplot(2, 2, i + 1)\n",
    "    plt.imshow(ds[0].numpy())\n",
    "    plt.title('{}'.format(lb[0].numpy()))\n",
    "    plt.axis(\"off\")\n",
    "    i+=1"
   ]
  },
  {
   "cell_type": "markdown",
   "id": "1a9d6b35-7125-49f6-81b8-fb8a5dc7f533",
   "metadata": {},
   "source": [
    "### Metodo 2. Usando Sequence en tf.data"
   ]
  },
  {
   "cell_type": "code",
   "execution_count": 245,
   "id": "fc84c385-945d-4213-b10d-6bf0a5055f37",
   "metadata": {},
   "outputs": [],
   "source": [
    "from tensorflow.keras import layers, Sequential\n",
    "trainAug = Sequential([\n",
    "        layers.Rescaling(scale=1.0 / 255),\n",
    "        layers.RandomContrast(0.5),\n",
    "        layers.RandomZoom(.5, .2),\n",
    "        layers.RandomFlip(\"horizontal\"),\n",
    "        layers.RandomCrop(20,20)\n",
    "    ],name='augmentation_in_model')\n",
    "layer_onehot = layers.CategoryEncoding(\n",
    "          num_tokens=10, output_mode=\"one_hot\")"
   ]
  },
  {
   "cell_type": "code",
   "execution_count": 246,
   "id": "25ca8258-2cb1-4811-979b-dd3500785530",
   "metadata": {},
   "outputs": [],
   "source": [
    "def data_load_sequential(data_ds,shuffle_train=True ,batch_=5):\n",
    "    data_ds = data_ds.map(\n",
    "        lambda x, y: (trainAug(x,shuffle_train),layer_onehot(y)), num_parallel_calls=tf.data.AUTOTUNE)\n",
    "    data_ds = data_ds.cache()\n",
    "    if shuffle_train:\n",
    "        data_ds = data_ds.shuffle(len(data_ds))\n",
    "    data_ds = data_ds.batch(batch_)\n",
    "    data_ds = data_ds.prefetch(tf.data.AUTOTUNE)\n",
    "    return data_ds\n",
    "\n",
    "data_train = data_load_sequential(ds_train)\n",
    "data_test = data_load_sequential(ds_test,shuffle_train=False)"
   ]
  },
  {
   "cell_type": "code",
   "execution_count": 247,
   "id": "e99476c6-88cc-469b-adbb-a7d00ed96f8a",
   "metadata": {},
   "outputs": [
    {
     "name": "stdout",
     "output_type": "stream",
     "text": [
      "(5, 20, 20, 1) tf.Tensor(\n",
      "[[0. 0. 0. 0. 0. 0. 0. 0. 1. 0.]\n",
      " [0. 0. 0. 0. 0. 0. 0. 1. 0. 0.]\n",
      " [0. 0. 0. 0. 1. 0. 0. 0. 0. 0.]\n",
      " [0. 0. 0. 0. 0. 0. 0. 1. 0. 0.]\n",
      " [0. 1. 0. 0. 0. 0. 0. 0. 0. 0.]], shape=(5, 10), dtype=float32)\n",
      "(5, 20, 20, 1) tf.Tensor(\n",
      "[[0. 0. 0. 0. 0. 0. 0. 0. 1. 0.]\n",
      " [0. 0. 0. 0. 0. 0. 0. 0. 1. 0.]\n",
      " [0. 0. 0. 0. 0. 0. 0. 1. 0. 0.]\n",
      " [0. 0. 1. 0. 0. 0. 0. 0. 0. 0.]\n",
      " [0. 0. 0. 0. 0. 0. 0. 0. 1. 0.]], shape=(5, 10), dtype=float32)\n",
      "(5, 20, 20, 1) tf.Tensor(\n",
      "[[0. 0. 1. 0. 0. 0. 0. 0. 0. 0.]\n",
      " [0. 0. 0. 0. 0. 0. 0. 0. 1. 0.]\n",
      " [0. 0. 0. 0. 1. 0. 0. 0. 0. 0.]\n",
      " [0. 0. 0. 0. 0. 0. 0. 0. 1. 0.]\n",
      " [0. 0. 0. 0. 0. 0. 0. 0. 0. 1.]], shape=(5, 10), dtype=float32)\n",
      "(5, 20, 20, 1) tf.Tensor(\n",
      "[[0. 0. 0. 0. 0. 0. 1. 0. 0. 0.]\n",
      " [0. 0. 0. 0. 1. 0. 0. 0. 0. 0.]\n",
      " [0. 0. 0. 0. 0. 0. 0. 0. 1. 0.]\n",
      " [0. 0. 0. 0. 1. 0. 0. 0. 0. 0.]\n",
      " [0. 0. 1. 0. 0. 0. 0. 0. 0. 0.]], shape=(5, 10), dtype=float32)\n"
     ]
    },
    {
     "data": {
      "image/png": "[encoded data removed]",
      "text/plain": [
       "<Figure size 216x216 with 4 Axes>"
      ]
     },
     "metadata": {
      "needs_background": "light"
     },
     "output_type": "display_data"
    }
   ],
   "source": [
    "plt.figure(figsize=(3, 3))\n",
    "i=0\n",
    "for ds,lb in data_train.take(4):\n",
    "    print(ds.shape,lb)\n",
    "    ax = plt.subplot(2, 2, i + 1)\n",
    "    plt.imshow(ds[0].numpy())\n",
    "    shaped=ds[0].numpy().shape\n",
    "    index = tf.argmax(lb, axis=1)\n",
    "    plt.title('{}'.format(index[0].numpy()))\n",
    "    plt.axis(\"off\")\n",
    "    i+=1"
   ]
  },
  {
   "cell_type": "markdown",
   "id": "c66807d1-3c37-4627-82c6-d03041972864",
   "metadata": {},
   "source": [
    "### Metodo 3. Usando Sequence dentro del modelo"
   ]
  },
  {
   "cell_type": "code",
   "execution_count": 244,
   "id": "20ce4b0b-1c27-4fd0-9a04-69954494367f",
   "metadata": {},
   "outputs": [
    {
     "name": "stdout",
     "output_type": "stream",
     "text": [
      "Model: \"sequential\"\n",
      "_________________________________________________________________\n",
      " Layer (type)                Output Shape              Param #   \n",
      "=================================================================\n",
      " augmentation_in_model (Sequ  (None, 20, 20, 1)        0         \n",
      " ential)                                                         \n",
      "                                                                 \n",
      " conv2d (Conv2D)             (None, 20, 20, 16)        160       \n",
      "                                                                 \n",
      " flatten (Flatten)           (None, 6400)              0         \n",
      "                                                                 \n",
      " dense (Dense)               (None, 10)                64010     \n",
      "                                                                 \n",
      "=================================================================\n",
      "Total params: 64,170\n",
      "Trainable params: 64,170\n",
      "Non-trainable params: 0\n",
      "_________________________________________________________________\n"
     ]
    }
   ],
   "source": [
    "tf.keras.backend.clear_session()\n",
    "model = tf.keras.Sequential()\n",
    "model.add(tf.keras.Input(shape=shaped))\n",
    "model.add(trainAug)\n",
    "model.add(layers.Conv2D(16, 3, padding='same', activation='relu'))\n",
    "model.add(layers.Flatten())\n",
    "model.add(layers.Dense(10,activation='softmax'))\n",
    "\n",
    "model.summary()"
   ]
  },
  {
   "cell_type": "code",
   "execution_count": null,
   "id": "c07ba30b-9e7e-4c7c-a75b-b6546bc4093e",
   "metadata": {},
   "outputs": [],
   "source": []
  },
  {
   "cell_type": "code",
   "execution_count": 216,
   "id": "cc18db8d-89a3-4edc-b323-5dbdafeccf46",
   "metadata": {},
   "outputs": [],
   "source": [
    "\n"
   ]
  },
  {
   "cell_type": "code",
   "execution_count": null,
   "id": "e62c8e8b-0152-4492-b255-6a4aa22baaef",
   "metadata": {},
   "outputs": [],
   "source": []
  },
  {
   "cell_type": "markdown",
   "id": "865ed8cc",
   "metadata": {},
   "source": [
    "### Analisis en Texto"
   ]
  },
  {
   "cell_type": "code",
   "execution_count": 269,
   "id": "258bd654-8f4b-4b30-81bc-37e03cc9c234",
   "metadata": {},
   "outputs": [],
   "source": [
    "train_data, validation_data, test_data = tfds.load(\n",
    "    name=\"imdb_reviews\", \n",
    "    split=('train[:60%]', 'train[60%:]', 'test'),\n",
    "    as_supervised=True)"
   ]
  },
  {
   "cell_type": "code",
   "execution_count": 270,
   "id": "f1638adc-8657-4c91-a494-0fe84116f24c",
   "metadata": {},
   "outputs": [
    {
     "name": "stdout",
     "output_type": "stream",
     "text": [
      "tf.Tensor([b\"This was an absolutely terrible movie. Don't be lured in by Christopher Walken or Michael Ironside. Both are great actors, but this must simply be their worst role in history. Even their great acting could not redeem this movie's ridiculous storyline. This movie is an early nineties US propaganda piece. The most pathetic scenes were those when the Columbian rebels were making their cases for revolutions. Maria Conchita Alonso appeared phony, and her pseudo-love affair with Walken was nothing but a pathetic emotional plug in a movie that was devoid of any real meaning. I am disappointed that there are movies like this, ruining actor's like Christopher Walken's good name. I could barely sit through it.\"], shape=(1,), dtype=string) tf.Tensor([0], shape=(1,), dtype=int64)\n"
     ]
    }
   ],
   "source": [
    "train_examples_batch, train_labels_batch = next(iter(train_data.batch(1)))\n",
    "print(train_examples_batch,train_labels_batch)"
   ]
  },
  {
   "cell_type": "code",
   "execution_count": 271,
   "id": "0ced8699",
   "metadata": {},
   "outputs": [],
   "source": [
    "def tf_lower_and_split_punct(text):\n",
    "  \n",
    "  text = tf_text.normalize_utf8(text, 'NFKD')\n",
    "  text = tf.strings.lower(text)\n",
    "  text = tf.strings.regex_replace(text, '[^ a-z.?!,¿]', '')\n",
    "  text = tf.strings.regex_replace(text, '[.?!,¿]', r' \\0 ')\n",
    "  text = tf.strings.strip(text)\n",
    "  text = tf.strings.join(['[START]', text, '[END]'], separator=' ')\n",
    "  return text"
   ]
  },
  {
   "cell_type": "code",
   "execution_count": null,
   "id": "7d0e1804",
   "metadata": {},
   "outputs": [],
   "source": []
  },
  {
   "cell_type": "code",
   "execution_count": null,
   "id": "f50ad384",
   "metadata": {},
   "outputs": [],
   "source": []
  },
  {
   "cell_type": "code",
   "execution_count": 272,
   "id": "b3f164ec-0214-492f-97fd-5f741f114d21",
   "metadata": {},
   "outputs": [],
   "source": [
    "def data_load_txt(data_ds,shuffle_=True ,batch_=12):\n",
    "    data_ds = data_ds.cache()\n",
    "    if shuffle_:\n",
    "        data_ds = data_ds.shuffle(len(data_ds))\n",
    "    data_ds = data_ds.batch(batch_)\n",
    "    data_ds = data_ds.prefetch(tf.data.AUTOTUNE)\n",
    "    return data_ds\n",
    "\n",
    "BATCH=32\n",
    "data_train = data_load_txt(train_data,batch_=BATCH)\n",
    "data_test = data_load_txt(test_data,shuffle_=False,batch_=BATCH)\n",
    "data_val = data_load_txt(validation_data,shuffle_=False,batch_=BATCH)"
   ]
  },
  {
   "cell_type": "code",
   "execution_count": null,
   "id": "ea26735e-da4e-450d-99a1-96455d8fc1f1",
   "metadata": {},
   "outputs": [],
   "source": []
  },
  {
   "cell_type": "code",
   "execution_count": 273,
   "id": "e0d94f96-15a5-4a8e-80b6-da6f752659f1",
   "metadata": {},
   "outputs": [],
   "source": [
    "max_vocab_size = 10000\n",
    "\n",
    "input_text_processor = tf.keras.layers.TextVectorization(\n",
    "    standardize=tf_lower_and_split_punct,\n",
    "    max_tokens=max_vocab_size)"
   ]
  },
  {
   "cell_type": "code",
   "execution_count": 274,
   "id": "2fae54af-4013-44bf-841e-597f8fc5b25a",
   "metadata": {},
   "outputs": [],
   "source": [
    "reviews_only_ds = data_train.map(lambda a, b: a) \n",
    "input_text_processor.adapt(reviews_only_ds)"
   ]
  },
  {
   "cell_type": "code",
   "execution_count": 275,
   "id": "f13401ff-abc5-4701-85ec-c8a16c9fd7a9",
   "metadata": {},
   "outputs": [
    {
     "data": {
      "text/plain": [
       "['', '[UNK]', 'the', '.', ',', 'and', 'a', 'of', 'to', 'is']"
      ]
     },
     "execution_count": 275,
     "metadata": {},
     "output_type": "execute_result"
    }
   ],
   "source": [
    "input_text_processor.get_vocabulary()[:10]"
   ]
  },
  {
   "cell_type": "code",
   "execution_count": 276,
   "id": "90156377-6437-4bdf-a725-5b5345dc4173",
   "metadata": {},
   "outputs": [
    {
     "name": "stdout",
     "output_type": "stream",
     "text": [
      "tf.Tensor([1 1 1 1 1 0 1 1 0 0 0 1 1 1 1 0 0 1 1 1 1 1 0 1 1 0 1 0 0 0 0 1], shape=(32,), dtype=int64) tf.Tensor(\n",
      "[[  34 1016    6 ...    0    0    0]\n",
      " [  34 9925 6599 ...    0    0    0]\n",
      " [  34   13   16 ...    0    0    0]\n",
      " ...\n",
      " [  34   13   28 ...    0    0    0]\n",
      " [  34    2   68 ...    0    0    0]\n",
      " [  34   10   10 ...    0    0    0]], shape=(32, 794), dtype=int64)\n"
     ]
    }
   ],
   "source": [
    "for idx in data_train.take(1):\n",
    "    example_tokens = input_text_processor(idx[0])\n",
    "    print(idx[1],example_tokens)"
   ]
  },
  {
   "cell_type": "code",
   "execution_count": 277,
   "id": "ed6e84f0",
   "metadata": {},
   "outputs": [
    {
     "data": {
      "text/plain": [
       "'[START] following a sitcom plot is so [UNK] easy that having her character simultaneously operate both within and without the context the rest of the cast inhabit is the kind of [UNK] that sitcoms could really use . the supporting characters ground the show in a sitcom reality which provides a [UNK] [UNK] to [UNK] erratic persona which , beyond general [UNK] , has no specific recurring traits for [UNK] expectations to be based on , making her less a character than a canvas to be [UNK] in every episode if not scene . [UNK] ability to see everything from an outside perspective [UNK] her to parody aspects of social behaviour that are subtle enough to usually go [UNK] . every time she speaks its like a [UNK] second skit . she [UNK] a lot , [UNK] the countless things a smile or change in vocal pitch can [UNK] , but never sticks with one idea long enough for you to get comfortable and form expectations that will be satisfied . this may be the most creative , original and experimental tv program ever . [END]                                                                                                                                                                                                                                                                                                                                                                                                                                                                                                                                                                                                                                '"
      ]
     },
     "execution_count": 277,
     "metadata": {},
     "output_type": "execute_result"
    }
   ],
   "source": [
    "input_vocab = np.array(input_text_processor.get_vocabulary())\n",
    "tokens = input_vocab[example_tokens[0].numpy()]\n",
    "' '.join(tokens)"
   ]
  },
  {
   "cell_type": "code",
   "execution_count": 278,
   "id": "898c3ff6",
   "metadata": {},
   "outputs": [
    {
     "data": {
      "text/plain": [
       "Text(0.5, 1.0, 'Mask')"
      ]
     },
     "execution_count": 278,
     "metadata": {},
     "output_type": "execute_result"
    },
    {
     "data": {
      "image/png": "[encoded data removed]",
      "text/plain": [
       "<Figure size 432x288 with 2 Axes>"
      ]
     },
     "metadata": {
      "needs_background": "light"
     },
     "output_type": "display_data"
    }
   ],
   "source": [
    "plt.subplot(1, 2, 1)\n",
    "plt.pcolormesh(example_tokens)\n",
    "plt.title('Token IDs')\n",
    "\n",
    "plt.subplot(1, 2, 2)\n",
    "plt.pcolormesh(example_tokens != 0)\n",
    "plt.title('Mask')"
   ]
  },
  {
   "cell_type": "code",
   "execution_count": 279,
   "id": "01c56165",
   "metadata": {},
   "outputs": [
    {
     "name": "stdout",
     "output_type": "stream",
     "text": [
      "Model: \"sequential_5\"\n",
      "_________________________________________________________________\n",
      " Layer (type)                Output Shape              Param #   \n",
      "=================================================================\n",
      " text_vectorization_12 (Text  (None, None)             0         \n",
      " Vectorization)                                                  \n",
      "                                                                 \n",
      " embedding (Embedding)       (None, None, 16)          160000    \n",
      "                                                                 \n",
      " dense_4 (Dense)             (None, None, 1)           17        \n",
      "                                                                 \n",
      "=================================================================\n",
      "Total params: 160,017\n",
      "Trainable params: 160,017\n",
      "Non-trainable params: 0\n",
      "_________________________________________________________________\n"
     ]
    }
   ],
   "source": [
    "from tensorflow.keras.layers import Embedding,Dense\n",
    "from tensorflow.keras import Sequential\n",
    "\n",
    "vocab_size = 10000\n",
    "embedding_dim=16\n",
    "\n",
    "model = Sequential([\n",
    "input_text_processor,\n",
    "  Embedding(input_dim = vocab_size, \n",
    "            output_dim = embedding_dim, \n",
    "            name=\"embedding\"),\n",
    "   Dense(1)])\n",
    "model.summary()"
   ]
  },
  {
   "cell_type": "code",
   "execution_count": null,
   "id": "65ed2478",
   "metadata": {},
   "outputs": [],
   "source": []
  },
  {
   "cell_type": "code",
   "execution_count": null,
   "id": "a1cd03d7-7f3c-4da0-ad2f-6fa7ea3d7292",
   "metadata": {},
   "outputs": [],
   "source": []
  },
  {
   "cell_type": "code",
   "execution_count": null,
   "id": "6bba3fb7-932e-46d9-ba1d-e82a14be7ce8",
   "metadata": {},
   "outputs": [],
   "source": []
  },
  {
   "cell_type": "code",
   "execution_count": null,
   "id": "5ca367b4-11ef-49a9-b596-81bffaf0a1e3",
   "metadata": {},
   "outputs": [],
   "source": []
  },
  {
   "cell_type": "code",
   "execution_count": null,
   "id": "c7332886-96f4-4a98-8659-bd8cd0a97924",
   "metadata": {},
   "outputs": [],
   "source": []
  }
 ],
 "metadata": {
  "kernelspec": {
   "display_name": "escuela_27tf",
   "language": "python",
   "name": "escuela_27tf"
  },
  "language_info": {
   "codemirror_mode": {
    "name": "ipython",
    "version": 3
   },
   "file_extension": ".py",
   "mimetype": "text/x-python",
   "name": "python",
   "nbconvert_exporter": "python",
   "pygments_lexer": "ipython3",
   "version": "3.8.5"
  }
 },
 "nbformat": 4,
 "nbformat_minor": 5
}
